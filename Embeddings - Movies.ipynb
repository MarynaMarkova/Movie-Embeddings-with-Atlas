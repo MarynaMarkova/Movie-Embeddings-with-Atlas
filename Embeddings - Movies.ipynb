{
 "cells": [
  {
   "cell_type": "code",
   "execution_count": 42,
   "id": "3237dd01",
   "metadata": {},
   "outputs": [],
   "source": [
    "import openai\n",
    "from dotenv import dotenv_values\n",
    "config = dotenv_values(\".env\")\n",
    "openai.api_key = config[\"OPENAI_API_KEY\"]"
   ]
  },
  {
   "cell_type": "code",
   "execution_count": 43,
   "id": "e5ccbf34",
   "metadata": {},
   "outputs": [],
   "source": [
    "import pandas as pd\n",
    "import numpy as np\n",
    "from tenacity import retry, wait_random_exponential, stop_after_attempt\n",
    "import pickle\n",
    "import tiktoken"
   ]
  },
  {
   "cell_type": "code",
   "execution_count": 44,
   "id": "52f3773b",
   "metadata": {},
   "outputs": [],
   "source": [
    "dataset_path = \"./movie_plots.csv\"\n",
    "df = pd.read_csv(dataset_path)"
   ]
  },
  {
   "cell_type": "code",
   "execution_count": 45,
   "id": "f814e6ed",
   "metadata": {},
   "outputs": [],
   "source": [
    "# Narrow our data set to 5000 recent American movies (to save money)\n",
    "movies = df[df[\"Origin/Ethnicity\"] == \"American\"].sort_values(\"Release Year\", ascending=False).head(200)"
   ]
  },
  {
   "cell_type": "code",
   "execution_count": 46,
   "id": "65fc26f6",
   "metadata": {},
   "outputs": [],
   "source": [
    "# Extract the movie plots into a list\n",
    "movie_plots = movies[\"Plot\"].values"
   ]
  },
  {
   "cell_type": "code",
   "execution_count": 47,
   "id": "50f0ccfb",
   "metadata": {},
   "outputs": [],
   "source": [
    "@retry(wait=wait_random_exponential(min=1, max=20), stop=stop_after_attempt(6))\n",
    "def get_embedding(text, model=\"text-embedding-ada-002\"):\n",
    "\n",
    "    # replace newlines, which can negatively affect performance.\n",
    "    text = text.replace(\"\\n\", \" \")\n",
    "\n",
    "    return openai.Embedding.create(input=text, model=model)[\"data\"][0][\"embedding\"]"
   ]
  },
  {
   "cell_type": "code",
   "execution_count": 48,
   "id": "b3358930",
   "metadata": {},
   "outputs": [],
   "source": [
    "enc = tiktoken.encoding_for_model(\"text-embedding-ada-002\")"
   ]
  },
  {
   "cell_type": "code",
   "execution_count": 49,
   "id": "a7950e72",
   "metadata": {},
   "outputs": [],
   "source": [
    "total_tokens = sum([len(enc.encode(plot)) for plot in movie_plots])"
   ]
  },
  {
   "cell_type": "code",
   "execution_count": 50,
   "id": "3971a67f",
   "metadata": {},
   "outputs": [
    {
     "name": "stdout",
     "output_type": "stream",
     "text": [
      "Estimated cost $0.06\n"
     ]
    }
   ],
   "source": [
    "total_tokens\n",
    "cost = total_tokens * (.0004 / 1000)\n",
    "print(f\"Estimated cost ${cost:.2f}\")"
   ]
  },
  {
   "cell_type": "code",
   "execution_count": 51,
   "id": "6efb5849",
   "metadata": {},
   "outputs": [],
   "source": [
    "# establish a cache of embeddings to avoid recomputing\n",
    "# cache is a dict of tuples (text, model) -> embedding, saved as a pickle file\n",
    "\n",
    "# set path to embedding cache\n",
    "embedding_cache_path = \"movie_embeddings_cache2.pkl\"\n",
    "\n",
    "# load the cache if it exists, and save a copy to disk\n",
    "try:\n",
    "    embedding_cache = pd.read_pickle(embedding_cache_path)\n",
    "except FileNotFoundError:\n",
    "    embedding_cache = {}\n",
    "with open(embedding_cache_path, \"wb\") as embedding_cache_file:\n",
    "    pickle.dump(embedding_cache, embedding_cache_file)\n",
    "\n",
    "# define a function to retrieve embeddings from the cache if present, and otherwise request via the API\n",
    "def embedding_from_string(\n",
    "    string,\n",
    "    model=\"text-embedding-ada-002\",\n",
    "    embedding_cache=embedding_cache\n",
    "):\n",
    "    \"\"\"Return embedding of given string, using a cache to avoid recomputing.\"\"\"\n",
    "    if (string, model) not in embedding_cache.keys():\n",
    "        embedding_cache[(string, model)] = get_embedding(string, model)\n",
    "        print(f\"GOT EMBEDDING FROM OPENAI FOR {string[:20]}\")\n",
    "        with open(embedding_cache_path, \"wb\") as embedding_cache_file:\n",
    "            pickle.dump(embedding_cache, embedding_cache_file)\n",
    "    return embedding_cache[(string, model)]"
   ]
  },
  {
   "cell_type": "code",
   "execution_count": 52,
   "id": "6fab186f",
   "metadata": {},
   "outputs": [
    {
     "name": "stdout",
     "output_type": "stream",
     "text": [
      "GOT EMBEDDING FROM OPENAI FOR In 2029, no mutants \n",
      "GOT EMBEDDING FROM OPENAI FOR Nursing assistant Ru\n",
      "GOT EMBEDDING FROM OPENAI FOR In the near future, \n",
      "GOT EMBEDDING FROM OPENAI FOR Casey, an American l\n",
      "GOT EMBEDDING FROM OPENAI FOR Bodi (Luke Wilson) i\n",
      "GOT EMBEDDING FROM OPENAI FOR African-American pho\n",
      "GOT EMBEDDING FROM OPENAI FOR In the year 1347 in \n",
      "GOT EMBEDDING FROM OPENAI FOR Mordred, an iron-fis\n",
      "GOT EMBEDDING FROM OPENAI FOR The movie starts wit\n",
      "GOT EMBEDDING FROM OPENAI FOR In \"9 months B.C.\", \n",
      "GOT EMBEDDING FROM OPENAI FOR Derek Cho, the film'\n",
      "GOT EMBEDDING FROM OPENAI FOR In the town of Ebbin\n",
      "GOT EMBEDDING FROM OPENAI FOR The story centers ar\n",
      "GOT EMBEDDING FROM OPENAI FOR After finally becomi\n",
      "GOT EMBEDDING FROM OPENAI FOR In 1934, famous Belg\n",
      "GOT EMBEDDING FROM OPENAI FOR Christine \"Lady Bird\n",
      "GOT EMBEDDING FROM OPENAI FOR In 2003, Larry \"Doc\"\n",
      "GOT EMBEDDING FROM OPENAI FOR Amy (Mila Kunis) is \n",
      "GOT EMBEDDING FROM OPENAI FOR Two years after the \n",
      "GOT EMBEDDING FROM OPENAI FOR Teenager Belle Walke\n",
      "GOT EMBEDDING FROM OPENAI FOR The plot tells the s\n",
      "GOT EMBEDDING FROM OPENAI FOR This is a story of t\n",
      "GOT EMBEDDING FROM OPENAI FOR Criminal Edgar Munse\n",
      "GOT EMBEDDING FROM OPENAI FOR In 1959, the peacefu\n",
      "GOT EMBEDDING FROM OPENAI FOR After a harrowing 15\n",
      "GOT EMBEDDING FROM OPENAI FOR Steven Murphy, a ski\n",
      "GOT EMBEDDING FROM OPENAI FOR The film interlaces \n",
      "GOT EMBEDDING FROM OPENAI FOR At the Sawyer homest\n",
      "GOT EMBEDDING FROM OPENAI FOR After Ron Hall (Greg\n",
      "GOT EMBEDDING FROM OPENAI FOR The film opens after\n",
      "GOT EMBEDDING FROM OPENAI FOR Eric \"Supe\" Marsh, t\n",
      "GOT EMBEDDING FROM OPENAI FOR In 2019, following m\n",
      "GOT EMBEDDING FROM OPENAI FOR During a weekend exc\n",
      "GOT EMBEDDING FROM OPENAI FOR Thousands of years a\n",
      "GOT EMBEDDING FROM OPENAI FOR August \"Auggie\" Pull\n",
      "GOT EMBEDDING FROM OPENAI FOR The film begins duri\n",
      "GOT EMBEDDING FROM OPENAI FOR Emily Martin (Noël W\n",
      "GOT EMBEDDING FROM OPENAI FOR Molly Bloom is world\n",
      "GOT EMBEDDING FROM OPENAI FOR In 1973, 16-year-old\n",
      "GOT EMBEDDING FROM OPENAI FOR In 1892, settler Wes\n",
      "GOT EMBEDDING FROM OPENAI FOR The granddaughter of\n",
      "GOT EMBEDDING FROM OPENAI FOR In an alternate pres\n",
      "GOT EMBEDDING FROM OPENAI FOR In 1966 Vietnam, Sta\n",
      "GOT EMBEDDING FROM OPENAI FOR Kyle (Wilson) and Pe\n",
      "GOT EMBEDDING FROM OPENAI FOR In the future, searc\n",
      "GOT EMBEDDING FROM OPENAI FOR Three years after th\n",
      "GOT EMBEDDING FROM OPENAI FOR P. T. Barnum and his\n",
      "GOT EMBEDDING FROM OPENAI FOR In 1996 in Brantford\n",
      "GOT EMBEDDING FROM OPENAI FOR Mark Corley, a Los A\n",
      "GOT EMBEDDING FROM OPENAI FOR In Spain, a ranch ow\n",
      "GOT EMBEDDING FROM OPENAI FOR Shortly after the ba\n",
      "GOT EMBEDDING FROM OPENAI FOR Defense lawyer Duke,\n",
      "GOT EMBEDDING FROM OPENAI FOR In 1970s Portland, O\n",
      "GOT EMBEDDING FROM OPENAI FOR Mickey Rubin, a Cone\n",
      "GOT EMBEDDING FROM OPENAI FOR Elisa Esposito, who \n",
      "GOT EMBEDDING FROM OPENAI FOR A musician lives wit\n",
      "GOT EMBEDDING FROM OPENAI FOR Elio, a 17-year-old \n",
      "GOT EMBEDDING FROM OPENAI FOR In May 1940, the opp\n",
      "GOT EMBEDDING FROM OPENAI FOR In Santa Cecilia, Me\n",
      "GOT EMBEDDING FROM OPENAI FOR Roman J. Israel (Den\n",
      "GOT EMBEDDING FROM OPENAI FOR The story is told in\n",
      "GOT EMBEDDING FROM OPENAI FOR San Francisco, 1998:\n",
      "GOT EMBEDDING FROM OPENAI FOR Robin Cavendish fall\n",
      "GOT EMBEDDING FROM OPENAI FOR Frankie (Harris Dick\n",
      "GOT EMBEDDING FROM OPENAI FOR Patricia \"Dumbo\" Dom\n",
      "GOT EMBEDDING FROM OPENAI FOR Jimmy Logan is laid \n",
      "GOT EMBEDDING FROM OPENAI FOR Private UK-based bod\n",
      "GOT EMBEDDING FROM OPENAI FOR Thomas Webb (Callum \n",
      "GOT EMBEDDING FROM OPENAI FOR Ingrid Thorburn is a\n",
      "GOT EMBEDDING FROM OPENAI FOR Connie Nikas forcibl\n",
      "GOT EMBEDDING FROM OPENAI FOR Surly Squirrel is no\n",
      "GOT EMBEDDING FROM OPENAI FOR The unconventional, \n",
      "GOT EMBEDDING FROM OPENAI FOR In 1943, dollmaker S\n",
      "GOT EMBEDDING FROM OPENAI FOR A team of trained op\n",
      "GOT EMBEDDING FROM OPENAI FOR During a winter seas\n",
      "GOT EMBEDDING FROM OPENAI FOR Karla Dyson (Halle B\n",
      "GOT EMBEDDING FROM OPENAI FOR Eleven-year-old Jake\n",
      "GOT EMBEDDING FROM OPENAI FOR James lives in an un\n",
      "GOT EMBEDDING FROM OPENAI FOR On July 23, 1967, th\n",
      "GOT EMBEDDING FROM OPENAI FOR Gene is an emoji tha\n",
      "GOT EMBEDDING FROM OPENAI FOR Wall Street broker W\n",
      "GOT EMBEDDING FROM OPENAI FOR Four lifelong best f\n",
      "GOT EMBEDDING FROM OPENAI FOR In the 28th century,\n",
      "GOT EMBEDDING FROM OPENAI FOR Clare Shannon, a 17-\n",
      "GOT EMBEDDING FROM OPENAI FOR Two years have passe\n",
      "GOT EMBEDDING FROM OPENAI FOR Following the Battle\n",
      "GOT EMBEDDING FROM OPENAI FOR In 1940, Thurgood Ma\n",
      "GOT EMBEDDING FROM OPENAI FOR Based on a true stor\n",
      "GOT EMBEDDING FROM OPENAI FOR Menashe (Menashe Lus\n",
      "GOT EMBEDDING FROM OPENAI FOR Set in the Netherlan\n",
      "GOT EMBEDDING FROM OPENAI FOR The film dramatizes \n",
      "GOT EMBEDDING FROM OPENAI FOR Theresa \"Tree\" Gelbm\n",
      "GOT EMBEDDING FROM OPENAI FOR After an operation i\n",
      "GOT EMBEDDING FROM OPENAI FOR Former boxer and dru\n",
      "GOT EMBEDDING FROM OPENAI FOR Six-year-old Moonee \n",
      "GOT EMBEDDING FROM OPENAI FOR The ponies of Equest\n",
      "GOT EMBEDDING FROM OPENAI FOR In January, after th\n",
      "GOT EMBEDDING FROM OPENAI FOR A medical student, C\n",
      "GOT EMBEDDING FROM OPENAI FOR In the late 1970s, B\n",
      "GOT EMBEDDING FROM OPENAI FOR The film opens with \n"
     ]
    }
   ],
   "source": [
    "# This line actaully generates the embeddings\n",
    "plot_embeddings = [embedding_from_string(plot, model=\"text-embedding-ada-002\") for plot in movie_plots]"
   ]
  },
  {
   "cell_type": "code",
   "execution_count": 55,
   "id": "5d393faa",
   "metadata": {},
   "outputs": [],
   "source": [
    "data = movies[[\"Title\", \"Genre\"]].to_dict(\"records\")"
   ]
  },
  {
   "cell_type": "code",
   "execution_count": 56,
   "id": "34b7287b",
   "metadata": {},
   "outputs": [],
   "source": [
    "from nomic import atlas"
   ]
  },
  {
   "cell_type": "code",
   "execution_count": 57,
   "id": "ce21ca99",
   "metadata": {
    "scrolled": true
   },
   "outputs": [
    {
     "name": "stderr",
     "output_type": "stream",
     "text": [
      "\u001b[32m2023-07-01 16:31:44.006\u001b[0m | \u001b[1mINFO    \u001b[0m | \u001b[36mnomic.project\u001b[0m:\u001b[36m_create_project\u001b[0m:\u001b[36m1100\u001b[0m - \u001b[1mCreating project `lyrical-silly` in organization `markova.maryna`\u001b[0m\n",
      "\u001b[32m2023-07-01 16:31:45.817\u001b[0m | \u001b[1mINFO    \u001b[0m | \u001b[36mnomic.atlas\u001b[0m:\u001b[36mmap_embeddings\u001b[0m:\u001b[36m100\u001b[0m - \u001b[1mUploading embeddings to Atlas.\u001b[0m\n",
      "1it [00:02,  2.17s/it]\n",
      "\u001b[32m2023-07-01 16:31:48.037\u001b[0m | \u001b[1mINFO    \u001b[0m | \u001b[36mnomic.project\u001b[0m:\u001b[36m_add_data\u001b[0m:\u001b[36m1722\u001b[0m - \u001b[1mUpload succeeded.\u001b[0m\n",
      "\u001b[32m2023-07-01 16:31:48.042\u001b[0m | \u001b[1mINFO    \u001b[0m | \u001b[36mnomic.atlas\u001b[0m:\u001b[36mmap_embeddings\u001b[0m:\u001b[36m119\u001b[0m - \u001b[1mEmbedding upload succeeded.\u001b[0m\n",
      "\u001b[32m2023-07-01 16:31:49.537\u001b[0m | \u001b[1mINFO    \u001b[0m | \u001b[36mnomic.project\u001b[0m:\u001b[36mcreate_index\u001b[0m:\u001b[36m1427\u001b[0m - \u001b[1mCreated map `lyrical-silly` in project `lyrical-silly`: https://atlas.nomic.ai/map/96afad09-817d-4b00-b6b8-a5787d778246/05a622f9-4461-4e4f-8381-8470e726c2e7\u001b[0m\n",
      "\u001b[32m2023-07-01 16:31:49.538\u001b[0m | \u001b[1mINFO    \u001b[0m | \u001b[36mnomic.atlas\u001b[0m:\u001b[36mmap_embeddings\u001b[0m:\u001b[36m132\u001b[0m - \u001b[1mlyrical-silly: https://atlas.nomic.ai/map/96afad09-817d-4b00-b6b8-a5787d778246/05a622f9-4461-4e4f-8381-8470e726c2e7\u001b[0m\n"
     ]
    }
   ],
   "source": [
    "project = atlas.map_embeddings(\n",
    "    embeddings=np.array(plot_embeddings),\n",
    "    data=data\n",
    ")"
   ]
  },
  {
   "cell_type": "code",
   "execution_count": 59,
   "id": "2f11a290",
   "metadata": {},
   "outputs": [
    {
     "name": "stdout",
     "output_type": "stream",
     "text": [
      "Defaulting to user installation because normal site-packages is not writeable\n",
      "Collecting matplotlib\n",
      "  Downloading matplotlib-3.7.1-cp38-cp38-manylinux_2_12_x86_64.manylinux2010_x86_64.whl (9.2 MB)\n",
      "\u001b[2K     \u001b[90m━━━━━━━━━━━━━━━━━━━━━━━━━━━━━━━━━━━━━━━━\u001b[0m \u001b[32m9.2/9.2 MB\u001b[0m \u001b[31m5.1 MB/s\u001b[0m eta \u001b[36m0:00:00\u001b[0m00:01\u001b[0m00:01\u001b[0m\n",
      "\u001b[?25hCollecting contourpy>=1.0.1 (from matplotlib)\n",
      "  Downloading contourpy-1.1.0-cp38-cp38-manylinux_2_17_x86_64.manylinux2014_x86_64.whl (300 kB)\n",
      "\u001b[2K     \u001b[90m━━━━━━━━━━━━━━━━━━━━━━━━━━━━━━━━━━━━━━━\u001b[0m \u001b[32m300.4/300.4 kB\u001b[0m \u001b[31m4.6 MB/s\u001b[0m eta \u001b[36m0:00:00\u001b[0ma \u001b[36m0:00:01\u001b[0m\n",
      "\u001b[?25hCollecting cycler>=0.10 (from matplotlib)\n",
      "  Downloading cycler-0.11.0-py3-none-any.whl (6.4 kB)\n",
      "Collecting fonttools>=4.22.0 (from matplotlib)\n",
      "  Downloading fonttools-4.40.0-cp38-cp38-manylinux_2_17_x86_64.manylinux2014_x86_64.whl (4.4 MB)\n",
      "\u001b[2K     \u001b[90m━━━━━━━━━━━━━━━━━━━━━━━━━━━━━━━━━━━━━━━━\u001b[0m \u001b[32m4.4/4.4 MB\u001b[0m \u001b[31m3.9 MB/s\u001b[0m eta \u001b[36m0:00:00\u001b[0m00:01\u001b[0m00:01\u001b[0m\n",
      "\u001b[?25hCollecting kiwisolver>=1.0.1 (from matplotlib)\n",
      "  Downloading kiwisolver-1.4.4-cp38-cp38-manylinux_2_5_x86_64.manylinux1_x86_64.whl (1.2 MB)\n",
      "\u001b[2K     \u001b[90m━━━━━━━━━━━━━━━━━━━━━━━━━━━━━━━━━━━━━━━━\u001b[0m \u001b[32m1.2/1.2 MB\u001b[0m \u001b[31m3.1 MB/s\u001b[0m eta \u001b[36m0:00:00\u001b[0m00:01\u001b[0m00:01\u001b[0m\n",
      "\u001b[?25hRequirement already satisfied: numpy>=1.20 in ./.local/lib/python3.8/site-packages (from matplotlib) (1.24.3)\n",
      "Requirement already satisfied: packaging>=20.0 in ./.local/lib/python3.8/site-packages (from matplotlib) (23.1)\n",
      "Collecting pillow>=6.2.0 (from matplotlib)\n",
      "  Downloading Pillow-9.5.0-cp38-cp38-manylinux_2_28_x86_64.whl (3.4 MB)\n",
      "\u001b[2K     \u001b[90m━━━━━━━━━━━━━━━━━━━━━━━━━━━━━━━━━━━━━━━━\u001b[0m \u001b[32m3.4/3.4 MB\u001b[0m \u001b[31m3.3 MB/s\u001b[0m eta \u001b[36m0:00:00\u001b[0m00:01\u001b[0m00:01\u001b[0m\n",
      "\u001b[?25hCollecting pyparsing>=2.3.1 (from matplotlib)\n",
      "  Downloading pyparsing-3.1.0-py3-none-any.whl (102 kB)\n",
      "\u001b[2K     \u001b[90m━━━━━━━━━━━━━━━━━━━━━━━━━━━━━━━━━━━━━━━\u001b[0m \u001b[32m102.6/102.6 kB\u001b[0m \u001b[31m3.1 MB/s\u001b[0m eta \u001b[36m0:00:00\u001b[0m\n",
      "\u001b[?25hRequirement already satisfied: python-dateutil>=2.7 in ./.local/lib/python3.8/site-packages (from matplotlib) (2.8.2)\n",
      "Requirement already satisfied: importlib-resources>=3.2.0 in ./.local/lib/python3.8/site-packages (from matplotlib) (5.12.0)\n",
      "Requirement already satisfied: zipp>=3.1.0 in ./.local/lib/python3.8/site-packages (from importlib-resources>=3.2.0->matplotlib) (3.15.0)\n",
      "Requirement already satisfied: six>=1.5 in /usr/lib/python3/dist-packages (from python-dateutil>=2.7->matplotlib) (1.14.0)\n",
      "Installing collected packages: pyparsing, pillow, kiwisolver, fonttools, cycler, contourpy, matplotlib\n",
      "Successfully installed contourpy-1.1.0 cycler-0.11.0 fonttools-4.40.0 kiwisolver-1.4.4 matplotlib-3.7.1 pillow-9.5.0 pyparsing-3.1.0\n",
      "Note: you may need to restart the kernel to use updated packages.\n"
     ]
    }
   ],
   "source": [
    "pip install matplotlib\n"
   ]
  },
  {
   "cell_type": "code",
   "execution_count": 61,
   "id": "232b9949",
   "metadata": {},
   "outputs": [
    {
     "name": "stdout",
     "output_type": "stream",
     "text": [
      "Defaulting to user installation because normal site-packages is not writeable\n",
      "Collecting plotly\n",
      "  Downloading plotly-5.15.0-py2.py3-none-any.whl (15.5 MB)\n",
      "\u001b[2K     \u001b[90m━━━━━━━━━━━━━━━━━━━━━━━━━━━━━━━━━━━━━━━━\u001b[0m \u001b[32m15.5/15.5 MB\u001b[0m \u001b[31m5.2 MB/s\u001b[0m eta \u001b[36m0:00:00\u001b[0m00:01\u001b[0m00:01\u001b[0m\n",
      "\u001b[?25hRequirement already satisfied: tenacity>=6.2.0 in ./.local/lib/python3.8/site-packages (from plotly) (8.2.2)\n",
      "Requirement already satisfied: packaging in ./.local/lib/python3.8/site-packages (from plotly) (23.1)\n",
      "Installing collected packages: plotly\n",
      "Successfully installed plotly-5.15.0\n",
      "Note: you may need to restart the kernel to use updated packages.\n"
     ]
    }
   ],
   "source": [
    "pip install plotly\n"
   ]
  },
  {
   "cell_type": "code",
   "execution_count": 63,
   "id": "b9936ff6",
   "metadata": {
    "scrolled": true
   },
   "outputs": [
    {
     "name": "stdout",
     "output_type": "stream",
     "text": [
      "Defaulting to user installation because normal site-packages is not writeable\n",
      "Collecting scipy\n",
      "  Downloading scipy-1.10.1-cp38-cp38-manylinux_2_17_x86_64.manylinux2014_x86_64.whl (34.5 MB)\n",
      "\u001b[2K     \u001b[90m━━━━━━━━━━━━━━━━━━━━━━━━━━━━━━━━━━━━━━━━\u001b[0m \u001b[32m34.5/34.5 MB\u001b[0m \u001b[31m2.2 MB/s\u001b[0m eta \u001b[36m0:00:00\u001b[0m00:01\u001b[0m00:01\u001b[0m\n",
      "\u001b[?25hRequirement already satisfied: numpy<1.27.0,>=1.19.5 in ./.local/lib/python3.8/site-packages (from scipy) (1.24.3)\n",
      "Installing collected packages: scipy\n",
      "Successfully installed scipy-1.10.1\n",
      "Note: you may need to restart the kernel to use updated packages.\n"
     ]
    }
   ],
   "source": [
    "pip install scipy"
   ]
  },
  {
   "cell_type": "code",
   "execution_count": 66,
   "id": "a5105cd3",
   "metadata": {},
   "outputs": [
    {
     "name": "stdout",
     "output_type": "stream",
     "text": [
      "Defaulting to user installation because normal site-packages is not writeable\n",
      "Collecting scikit-learn\n",
      "  Downloading scikit_learn-1.3.0-cp38-cp38-manylinux_2_17_x86_64.manylinux2014_x86_64.whl (11.1 MB)\n",
      "\u001b[2K     \u001b[90m━━━━━━━━━━━━━━━━━━━━━━━━━━━━━━━━━━━━━━━━\u001b[0m \u001b[32m11.1/11.1 MB\u001b[0m \u001b[31m5.4 MB/s\u001b[0m eta \u001b[36m0:00:00\u001b[0m00:01\u001b[0m00:01\u001b[0m\n",
      "\u001b[?25hRequirement already satisfied: numpy>=1.17.3 in ./.local/lib/python3.8/site-packages (from scikit-learn) (1.24.3)\n",
      "Requirement already satisfied: scipy>=1.5.0 in ./.local/lib/python3.8/site-packages (from scikit-learn) (1.10.1)\n",
      "Collecting joblib>=1.1.1 (from scikit-learn)\n",
      "  Downloading joblib-1.3.1-py3-none-any.whl (301 kB)\n",
      "\u001b[2K     \u001b[90m━━━━━━━━━━━━━━━━━━━━━━━━━━━━━━━━━━━━━━━\u001b[0m \u001b[32m302.0/302.0 kB\u001b[0m \u001b[31m4.6 MB/s\u001b[0m eta \u001b[36m0:00:00\u001b[0ma \u001b[36m0:00:01\u001b[0m\n",
      "\u001b[?25hCollecting threadpoolctl>=2.0.0 (from scikit-learn)\n",
      "  Downloading threadpoolctl-3.1.0-py3-none-any.whl (14 kB)\n",
      "Installing collected packages: threadpoolctl, joblib, scikit-learn\n",
      "Successfully installed joblib-1.3.1 scikit-learn-1.3.0 threadpoolctl-3.1.0\n",
      "Note: you may need to restart the kernel to use updated packages.\n"
     ]
    }
   ],
   "source": [
    "pip install scikit-learn"
   ]
  },
  {
   "cell_type": "code",
   "execution_count": 69,
   "id": "096b9103",
   "metadata": {},
   "outputs": [],
   "source": [
    "from openai.embeddings_utils import distances_from_embeddings, indices_of_nearest_neighbors_from_distances"
   ]
  },
  {
   "cell_type": "raw",
   "id": "e0a44e81",
   "metadata": {},
   "source": []
  },
  {
   "cell_type": "code",
   "execution_count": 76,
   "id": "78e1f36b",
   "metadata": {},
   "outputs": [],
   "source": [
    "def print_recommendations_from_strings(\n",
    "    strings,\n",
    "    index_of_source_string,\n",
    "    k_nearest_neighbors=3,\n",
    "    model=\"text-embedding-ada-002\"\n",
    ") :\n",
    "    # Get all of the embeddings\n",
    "    embeddings = [embedding_from_string(string) for string in strings]\n",
    "    # Get embedding for out specific query string\n",
    "    query_embedding = embeddings[index_of_source_string]\n",
    "    # Get distances between our embedding and all other embeddings\n",
    "    distances = distances_from_embeddings(query_embedding, embeddings)\n",
    "    # Get indices of the nearest neighbors\n",
    "    indices_of_nearest_neighbors = indices_of_nearest_neighbors_from_distances(distances)\n",
    "    \n",
    "    query_string = strings[index_of_source_string]\n",
    "    match_count = 0\n",
    "    for i in indices_of_nearest_neighbors:\n",
    "        if query_string == strings[i]:\n",
    "            continue\n",
    "        if match_count >= k_nearest_neighbors:\n",
    "            break\n",
    "        match_count += 1\n",
    "        print(f\"Found {match_count} closest match: \")\n",
    "        print(f\"Distance of: {distances[i]}\")\n",
    "        print(strings[i])\n",
    "            "
   ]
  },
  {
   "cell_type": "code",
   "execution_count": 77,
   "id": "c1a43b94",
   "metadata": {},
   "outputs": [
    {
     "name": "stdout",
     "output_type": "stream",
     "text": [
      "Found 1 closest match: \n",
      "Distance of: 0.13664061546949713\n",
      "In the near future, the unmanned Pilgrim 7 space probe returns from Mars to Earth orbit with soil samples potentially containing evidence of extraterrestrial life. The probe is captured and its samples retrieved by the International Space Station and its six-member crew. Exobiologist Hugh Derry, who is paralyzed from the waist down, revives a dormant cell from the sample, which quickly grows into a multi-celled organism that American school children name \"Calvin\". Hugh realizes that Calvin's cells can change their specialisation, acting as muscle, sensor, and neuron cells all at once.\r\n",
      "An accident in the lab causes Calvin to become dormant; Hugh attempts to revive Calvin with electric shocks, but Calvin immediately becomes hostile and attacks Hugh, crushing his hand. While Hugh lies unconscious from Calvin's attack, Calvin uses Hugh's electric shock tool to escape its enclosure; now free in the laboratory, Calvin devours a lab rat by absorbing it, growing in size. Engineer Rory Adams enters the lab to rescue Hugh; he is locked in by fellow crew member and physician David Jordan, however, to keep Calvin contained. Calvin latches onto Rory's leg; after Rory unsuccessfully attacks Calvin with a portable rocket thruster, Calvin enters his mouth, devouring his organs from the inside and killing him. Emerging from Rory's mouth even larger, Calvin escapes through a fire-control vent.\r\n",
      "Finding their communication with Earth cut off due to overheating of the communication systems, ISS commander Ekaterina Golovkina performs a space walk to find and fix the problem. She discovers that Calvin has breached the ISS's cooling system; soon after, Calvin attacks her, rupturing her spacesuit's water coolant system in the process and causing the water in the system to fill her suit. She blindly makes her way back to the airlock; however, she and the crew realize that if she re-enters, Calvin will also be able to re-enter the ISS. Hence, she refuses to open the hatch and stops David from helping her do so; this keeps Calvin out of the station for the time being but also causes her to drown and die in her spacesuit.\r\n",
      "Calvin then attempts to re-enter the station through its maneuvering thrusters. The crew try to fire the thrusters to blast Calvin away from the spacecraft, but their attempts fail, using up too much fuel and causing the ISS to enter a decaying orbit where it will burn up in Earth's atmosphere. Pilot Sho Murakami informs the crew that they need to use the station's remaining fuel to get back into a safe orbit, although this allows Calvin to re-enter the station. The crew plan to make Calvin dormant by sealing themselves into one module and venting the atmosphere from the rest of the station.\r\n",
      "After the remaining crew finalize preparations to do so, Hugh enters cardiac arrest. The crew then discover that Calvin has been feeding off of Hugh's paralyzed leg. Calvin attacks the remainder of the crew; Sho seals himself in a sleeping pod. As Calvin attempts to break its glass, David and the quarantine officer Miranda North use Hugh's corpse as bait to lure Calvin away from Sho and trap it in another module to deprive it of oxygen. Having received a distress call prior to the damage to the ISS's communication system, Earth sends a Soyuz spacecraft to the station as a fail-safe plan to push the station into deep space. Believing the Soyuz to be on a rescue mission for the ISS crew, Sho leaves his pod and moves to board it, forcing open its hatch; Calvin then attacks him and the Soyuz crew, causing the craft's docking mechanism to fail and resulting in the capsule crashing into the ISS, killing Sho and the Soyuz crew and causing the ISS to once again enter a decaying orbit.\r\n",
      "The only two remaining survivors, David and Miranda, aware that Calvin could survive re-entry, plan for David to lure Calvin into one of the two remaining escape pods attached to the ISS for David to manually pilot the pod into deep space, isolating Calvin and allowing Miranda to return to Earth in the second pod. David manages to lure Calvin into his pod while Miranda enters her pod; as they simultaneously undock their pods from the ISS, one of the pods hits debris and is damaged, veering off course. In David's pod, Calvin attacks him as he struggles to manually pilot the pod; in Miranda's pod, she records a black box message in case of her death during re-entry informing the world of her colleagues' deaths and not to trust Calvin nor any extraterrestrial life from Mars as well as to destroy Calvin at any cost should he make his way to Earth.\r\n",
      "The two pods separate, one earthbound, the other spiraling away from Earth. The earthbound pod lands in the ocean; two nearby Vietnamese fishermen approach it. As they look into the pod, it is revealed to be David's, the astronaut now encased in a web-like substance. Meanwhile, Miranda's pod's navigation system fails due to damage sustained from the debris, sending her flying away from Earth out of control, much to her horror. On Earth, despite David attempting to warn the fishermen, the fishermen open the pod's hatch. Meanwhile, more boats arrive.\n",
      "Found 2 closest match: \n",
      "Distance of: 0.16191282010742114\n",
      "Mark Corley, a Los Angeles police detective, helps his estranged son, Trent, out of jail just as an alien invasion begins. The entire population of the city is sucked into various spaceships by a blue light. Mark leads a group of surviving humans through underground subway tunnels to escape, though most of the humans are killed or abducted one by one. The survivors – Mark, Trent, transit operator Audrey, and a homeless man known only as \"Sarge\", who is immune to the blue light due to his blindness – escape to the marina following its nuclear destruction, only to be abducted into the alien flagship by a towering alien tanker.\r\n",
      "On board the spaceship, Mark tries to find his son and storms his way into various chambers, where he meets up with survivor Elaine and her transformed boyfriend Jarrod (from the first film). Elaine explains that Jarrod retained control of his mind despite being transformed into a bio-mechanical alien soldier. Though Elaine is three months pregnant, her pregnancy has accelerated and she gives birth to a newborn daughter. Elaine dies during the delivery, and Mark and Jarrod team up to destroy the alien ship by setting alien explosives inside the ship's control systems. As Jarrod fights various alien warriors, Mark rescues Audrey but is too late to save his son. Trent has his brain taken and placed in another alien bio-mechanical machine creature. Sarge sacrifices himself so that Mark, Audrey and the baby can escape from the chamber. Jarrod is killed when he fights the alien leader but destroys the ship, which crashes in rural Laos.\r\n",
      "As the alien spaceship repairs itself, Mark, Audrey and the baby are found by a pair of human siblings, outlaw Sua and his sister Kanya, who are evading both aliens and local militia. As they trek through the jungle, the group discovers that the human baby grows at an accelerated rate from a newborn into a three-year-old in just one day. Sua and Kanya lead Mark, Audrey and the baby to a hidden human resistance hideout located in local ruins. There, Harper, a medical officer and former drug smuggler, examines the baby girl and learns about her unique DNA. Harper believes her blood may be the key to defeating the aliens due to her evolving DNA. Using the child's blood and recovered alien technology, Harper develops a serum he believes will free the bio-mechanical soldiers from alien control and restore their human personality. Though Sua insists on killing all the bio-mechanical soldiers, Mark convinces Sua to allow him to save Trent.\r\n",
      "While on a patrol, Kanya encounters a four-legged tanker alien and sacrifices herself by luring it into an old minefield left over from the Vietnam war. Though she destroys it, she unwittingly gives away their location to the alien ships searching for the human newborn child. They converge on the human base. During the resulting battle, several members of the human resistance, including Harper, are killed. Mark enters a grounded alien ship, where he uses Harper's serum to turn the mind-controlling blue light into a red light that frees the mind-controlled bio-mechanical soldiers. Before he can deploy it, the alien leader and his horde of alien warriors attacks the human resistance and disables the light. Trent, his mind restored after encountering his father, fights back inside a giant alien tanker. While the alien leader is busy fighting Trent, the child fixes and deploys the red light, freeing the bio-mechanical soldiers, and Trent defeats the alien leader. With Earth saved, Audrey names the girl Rose after Mark's deceased wife.\r\n",
      "Ten years later, Rose, now a fully-grown adult, has taken control of an alien ship, and Trent is her second-in-command. Rose leads freed bio-mechanical soldiers and humans in an assault on the other alien ships around the moon, including the mothership.\n",
      "Found 3 closest match: \n",
      "Distance of: 0.16281481007023046\n",
      "In the near future, Nathaniel Shepard, CEO of Genesis, launches the first ever mission to colonize Mars. During the journey, the lead astronaut, Sarah Elliot, discovers that she is pregnant. Shortly after landing, she dies from eclampsia while giving birth to the first human born on Mars. The father of the child is unknown. In a dilemma, Nathaniel eventually decides to keep the child on Mars as a secret, to avoid a PR disaster for his company and also keep the child safe.\r\n",
      "Sixteen years later, Sarah's son, Gardner Elliot, has grown up into an inquisitive, highly intelligent boy who has only ever met 14 people in his very unconventional upbringing. One day, in order to find out more about his mother, he hacks into Centaur, a robot he helped build, to gain access to the ship's storage. There, he retrieves his mother's items. Among them are a wedding ring and a USB drive, from which he plays a video of her and a man in a beach house. Convinced that the man is his father, he becomes determined to find him.\r\n",
      "Gardner logs on to an Internet chatroom, where he has struck up an online relationship with Tulsa, a street smart girl from Colorado who is constantly being shuffled from one foster home to the next. Under the guise of being confined to a penthouse due to osteogenesis imperfecta, they discuss their plans for the future. Gardner promises to come see her someday. He then watches the German language film, Wings of Desire, where an angel falls to Earth.\r\n",
      "His mother figure, astronaut Kendra Wyndham, video calls Nathaniel and Genesis director Tom Chen to inform them of Gardner's extraordinary intelligence and to beg them to allow him to go to Earth. Nathaniel refuses, as Gardner would have to undergo a highly risky surgery to increase his bone density and then train to adapt to Earth's atmospheric pressure. Gardner undergoes the surgery anyway and after training, he, Kendra and some other astronauts board a space shuttle for Earth.\r\n",
      "On the day of the space shuttle's arrival, Nathaniel discovers that Gardner is on board. He angrily confronts Tom, who hid this from him. Despite his anger, Nathaniel visits Gardner, who is being quarantined in NASA while undergoing medical tests to determine whether he is fit for life on Earth. After a visit from Kendra, Gardner manages to discover that he is not fit for life on Earth. Upset, he stages a daring escape and hitches a ride to find Tulsa. Upon seeing him, Tulsa hits him as she is upset at Gardner for 'ghosting' her for 7 months. However, she forgives him and he convinces her to help him find his father. They stop by her house to get supplies for the journey, but are found by Nathaniel and Kendra. While trying to convince him to return to NASA, Gardner angrily confronts Kendra with her own admission of not wanting children and escapes with Tulsa on an old plane which her foster father was working on. The plane abruptly loses oil pressure while still in the sky. Tulsa manages to crash-land the plane into an old, abandoned barn, causing a fiery explosion. They escape safely to a diner where they determine the location of the shaman who married Gardner's parents, Shaman Neka.\r\n",
      "Believing that Gardner has died, a grieving Nathaniel and Kendra let out their rage at one another. After discovering that no bodies were found in the wreckage, they receive some devastating news - Gardner's body contains dangerously high levels of troponin, meaning that he has an enlarged heart. His heart is unable to stand Earth's atmospheric pressure and so Gardner must be returned to Mars immediately if he is to survive. The search is resumed with renewed fervor and they discover CCTV footage of Gardner and Tulsa in a supermarket parking lot, where they have bought clothes and supplies for the journey. During the journey, Gardner tells Tulsa the truth - that he was born and raised on Mars. Unwilling to accept the truth, she forces him out of the car but forgives him once he promises never to lie to her again, although she still does not believe him.\r\n",
      "At night, they camp out under the stars, where they make love. In the morning, they are discovered by a follower of Shaman Neka and are brought to him. He agrees to help them. Gardner's nose starts bleeding, a fact he conceals while Tulsa accesses the records to get the location of the beach house, which is in Summerland, California.\r\n",
      "Before they begin their journey, they make a detour to Las Vegas. Gardner's nose starts to bleed again and he collapses and is taken to a hospital. After seeing the carbon tubes in his bones on the results of an X-ray at the hospital, Tulsa tells Gardner she now believes he was born on Mars, but plans to leave him in the hospital, before foster care can come, as he is too sick to continue their journey. Gardner reveals that he knows he won't last on Earth anymore and all he wants is to meet his father before he dies. Tulsa gives in and helps him escape. They steal a car and drive to the beach house. There, they meet the man from the video, who reveals that he is not Sarah Elliot's husband, but her own brother. However, he thinks that the two are lying to him. Gardner runs down to the sea, where he tells Tulsa that this is where he wants to die. He collapses. Tulsa tries frantically to drag him to the shore, but he is too heavy for her. Nathaniel and Kendra arrive just in time to save him. After Nathaniel performs CPR on him, Gardner asks him about his mother Sarah and reveals that he knows that Nathaniel is his real father. Nathaniel, Kendra and Tulsa rush Gardner to a Dream Chaser. They plan to launch into the stratosphere to stabilize him. When that proves to not be enough, a desperate Nathaniel takes control and launches into outer space. Free of Earth's gravity, Gardner is revived.\r\n",
      "Soon, Gardner boards a space shuttle to Mars. Tulsa and Gardner have an emotional parting. Kendra, who is staying on Earth because she is retiring from NASA, adopts Tulsa. Determined to join Gardner on Mars, Tulsa joins Kendra's training program. Back on Mars, with his father Nathaniel, Gardner is glad to be home.\n"
     ]
    }
   ],
   "source": [
    "print_recommendations_from_strings(movie_plots, 2)"
   ]
  },
  {
   "cell_type": "code",
   "execution_count": null,
   "id": "f097403b",
   "metadata": {},
   "outputs": [],
   "source": []
  },
  {
   "cell_type": "code",
   "execution_count": null,
   "id": "c0ff333b",
   "metadata": {},
   "outputs": [],
   "source": []
  }
 ],
 "metadata": {
  "kernelspec": {
   "display_name": "Python 3 (ipykernel)",
   "language": "python",
   "name": "python3"
  },
  "language_info": {
   "codemirror_mode": {
    "name": "ipython",
    "version": 3
   },
   "file_extension": ".py",
   "mimetype": "text/x-python",
   "name": "python",
   "nbconvert_exporter": "python",
   "pygments_lexer": "ipython3",
   "version": "3.8.10"
  }
 },
 "nbformat": 4,
 "nbformat_minor": 5
}
